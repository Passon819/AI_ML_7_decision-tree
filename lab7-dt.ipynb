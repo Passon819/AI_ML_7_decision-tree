{
 "cells": [
  {
   "cell_type": "markdown",
   "id": "09d80a7c",
   "metadata": {},
   "source": [
    "# นายพัสสน แซ่โจว 64543206037-6"
   ]
  },
  {
   "cell_type": "code",
   "execution_count": 1,
   "id": "c8aef518",
   "metadata": {},
   "outputs": [
    {
     "name": "stdout",
     "output_type": "stream",
     "text": [
      "digraph Tree {\n",
      "node [shape=box, style=\"filled, rounded\", color=\"black\", fontname=\"helvetica\"] ;\n",
      "edge [fontname=\"helvetica\"] ;\n",
      "0 [label=\"petal length (cm) <= 2.45\\ngini = 0.667\\nsamples = 150\\nvalue = [50, 50, 50]\\nclass = setosa\", fillcolor=\"#ffffff\"] ;\n",
      "1 [label=\"gini = 0.0\\nsamples = 50\\nvalue = [50, 0, 0]\\nclass = setosa\", fillcolor=\"#e58139\"] ;\n",
      "0 -> 1 [labeldistance=2.5, labelangle=45, headlabel=\"True\"] ;\n",
      "2 [label=\"petal width (cm) <= 1.75\\ngini = 0.5\\nsamples = 100\\nvalue = [0, 50, 50]\\nclass = versicolor\", fillcolor=\"#ffffff\"] ;\n",
      "0 -> 2 [labeldistance=2.5, labelangle=-45, headlabel=\"False\"] ;\n",
      "3 [label=\"petal length (cm) <= 4.95\\ngini = 0.168\\nsamples = 54\\nvalue = [0, 49, 5]\\nclass = versicolor\", fillcolor=\"#4de88e\"] ;\n",
      "2 -> 3 ;\n",
      "4 [label=\"petal width (cm) <= 1.65\\ngini = 0.041\\nsamples = 48\\nvalue = [0, 47, 1]\\nclass = versicolor\", fillcolor=\"#3de684\"] ;\n",
      "3 -> 4 ;\n",
      "5 [label=\"gini = 0.0\\nsamples = 47\\nvalue = [0, 47, 0]\\nclass = versicolor\", fillcolor=\"#39e581\"] ;\n",
      "4 -> 5 ;\n",
      "6 [label=\"gini = 0.0\\nsamples = 1\\nvalue = [0, 0, 1]\\nclass = virginica\", fillcolor=\"#8139e5\"] ;\n",
      "4 -> 6 ;\n",
      "7 [label=\"petal width (cm) <= 1.55\\ngini = 0.444\\nsamples = 6\\nvalue = [0, 2, 4]\\nclass = virginica\", fillcolor=\"#c09cf2\"] ;\n",
      "3 -> 7 ;\n",
      "8 [label=\"gini = 0.0\\nsamples = 3\\nvalue = [0, 0, 3]\\nclass = virginica\", fillcolor=\"#8139e5\"] ;\n",
      "7 -> 8 ;\n",
      "9 [label=\"gini = 0.444\\nsamples = 3\\nvalue = [0, 2, 1]\\nclass = versicolor\", fillcolor=\"#9cf2c0\"] ;\n",
      "7 -> 9 ;\n",
      "10 [label=\"petal length (cm) <= 4.85\\ngini = 0.043\\nsamples = 46\\nvalue = [0, 1, 45]\\nclass = virginica\", fillcolor=\"#843de6\"] ;\n",
      "2 -> 10 ;\n",
      "11 [label=\"gini = 0.444\\nsamples = 3\\nvalue = [0, 1, 2]\\nclass = virginica\", fillcolor=\"#c09cf2\"] ;\n",
      "10 -> 11 ;\n",
      "12 [label=\"gini = 0.0\\nsamples = 43\\nvalue = [0, 0, 43]\\nclass = virginica\", fillcolor=\"#8139e5\"] ;\n",
      "10 -> 12 ;\n",
      "}\n"
     ]
    }
   ],
   "source": [
    "from sklearn import datasets\n",
    "import numpy as np\n",
    "import matplotlib.pyplot as plt\n",
    "from sklearn.tree import DecisionTreeClassifier\n",
    "from sklearn.tree import export_graphviz\n",
    "\n",
    "iris = datasets.load_iris()\n",
    "\n",
    "X_train = iris.data[:,2:] #เลือกทุกดอก,เอาเฉพาะคอลัมน์ 2-3 (petal len/wid) \n",
    "y_train = iris.target # 0= seto,1=versi,2=virgi\n",
    "#y_train = (y_train == 2).astype(int) # 0=not virgi, 1=virgi, 2=virgi\n",
    "np.random.seed(42)\n",
    "\n",
    "\n",
    "dt = DecisionTreeClassifier(max_depth=4)\n",
    "dt.fit(X_train,y_train)\n",
    "#logre.predict([[6,2],[4,1]])\n",
    "tree_dot = export_graphviz(\n",
    "    dt,\n",
    "    feature_names=iris.feature_names[2:],\n",
    "    class_names=iris.target_names,\n",
    "    rounded=True,filled=True)\n",
    "print(tree_dot)\n",
    "#iris.feature_names\n",
    "#iris.target_names"
   ]
  },
  {
   "cell_type": "code",
   "execution_count": null,
   "id": "19bd6e44",
   "metadata": {},
   "outputs": [],
   "source": [
    "plt.figure(figsize=(3,2))\n",
    "plt.scatter(X_train[y_train==0,0],X_train[y_train==0,1]) #เฉพาะไม่ virgi\n",
    "plt.scatter(X_train[y_train==1,0],X_train[y_train==1,1]) #เฉพาะ virgi\n",
    "plt.scatter(X_train[y_train==2,0],X_train[y_train==2,1]) # virgi\n",
    "plt.xlabel('petal length')\n",
    "plt.ylabel('petal width')"
   ]
  }
 ],
 "metadata": {
  "kernelspec": {
   "display_name": "Python 3 (ipykernel)",
   "language": "python",
   "name": "python3"
  },
  "language_info": {
   "codemirror_mode": {
    "name": "ipython",
    "version": 3
   },
   "file_extension": ".py",
   "mimetype": "text/x-python",
   "name": "python",
   "nbconvert_exporter": "python",
   "pygments_lexer": "ipython3",
   "version": "3.10.9"
  }
 },
 "nbformat": 4,
 "nbformat_minor": 5
}
